{
  "nbformat": 4,
  "nbformat_minor": 0,
  "metadata": {
    "colab": {
      "provenance": []
    },
    "kernelspec": {
      "name": "python3",
      "display_name": "Python 3"
    },
    "language_info": {
      "name": "python"
    }
  },
  "cells": [
    {
      "cell_type": "code",
      "source": [
        "!pip install scikit-learn numpy torch\n"
      ],
      "metadata": {
        "colab": {
          "base_uri": "https://localhost:8080/"
        },
        "id": "So9JMz9uSuIY",
        "outputId": "ccb9148e-1b5c-4dec-89ac-a0c0a92fbad8"
      },
      "execution_count": 1,
      "outputs": [
        {
          "output_type": "stream",
          "name": "stdout",
          "text": [
            "Requirement already satisfied: scikit-learn in /usr/local/lib/python3.10/dist-packages (1.5.2)\n",
            "Requirement already satisfied: numpy in /usr/local/lib/python3.10/dist-packages (1.26.4)\n",
            "Requirement already satisfied: torch in /usr/local/lib/python3.10/dist-packages (2.5.0+cu121)\n",
            "Requirement already satisfied: scipy>=1.6.0 in /usr/local/lib/python3.10/dist-packages (from scikit-learn) (1.13.1)\n",
            "Requirement already satisfied: joblib>=1.2.0 in /usr/local/lib/python3.10/dist-packages (from scikit-learn) (1.4.2)\n",
            "Requirement already satisfied: threadpoolctl>=3.1.0 in /usr/local/lib/python3.10/dist-packages (from scikit-learn) (3.5.0)\n",
            "Requirement already satisfied: filelock in /usr/local/lib/python3.10/dist-packages (from torch) (3.16.1)\n",
            "Requirement already satisfied: typing-extensions>=4.8.0 in /usr/local/lib/python3.10/dist-packages (from torch) (4.12.2)\n",
            "Requirement already satisfied: networkx in /usr/local/lib/python3.10/dist-packages (from torch) (3.4.2)\n",
            "Requirement already satisfied: jinja2 in /usr/local/lib/python3.10/dist-packages (from torch) (3.1.4)\n",
            "Requirement already satisfied: fsspec in /usr/local/lib/python3.10/dist-packages (from torch) (2024.10.0)\n",
            "Requirement already satisfied: sympy==1.13.1 in /usr/local/lib/python3.10/dist-packages (from torch) (1.13.1)\n",
            "Requirement already satisfied: mpmath<1.4,>=1.1.0 in /usr/local/lib/python3.10/dist-packages (from sympy==1.13.1->torch) (1.3.0)\n",
            "Requirement already satisfied: MarkupSafe>=2.0 in /usr/local/lib/python3.10/dist-packages (from jinja2->torch) (3.0.2)\n"
          ]
        }
      ]
    },
    {
      "cell_type": "code",
      "source": [
        "from sklearn.datasets import fetch_covtype\n",
        "from sklearn.model_selection import train_test_split\n",
        "from sklearn.preprocessing import StandardScaler\n",
        "from sklearn.linear_model import LogisticRegression\n",
        "from sklearn.metrics import accuracy_score, roc_auc_score\n",
        "import numpy as np\n",
        "import torch\n",
        "import torch.nn as nn\n",
        "import torch.optim as optim\n"
      ],
      "metadata": {
        "id": "aeZhRBTSYNS3"
      },
      "execution_count": 2,
      "outputs": []
    },
    {
      "cell_type": "code",
      "source": [
        "# Load dataset\n",
        "data = fetch_covtype()\n",
        "X, y = data.data, data.target\n",
        "\n",
        "# Binary classification: label as 1 for class 1, 0 for others\n",
        "y = (y == 1).astype(int)\n",
        "\n",
        "# Split data\n",
        "X_train, X_test, y_train, y_test = train_test_split(X, y, test_size=0.2, random_state=42)\n",
        "\n",
        "# Normalize features\n",
        "scaler = StandardScaler()\n",
        "X_train = scaler.fit_transform(X_train)\n",
        "X_test = scaler.transform(X_test)\n"
      ],
      "metadata": {
        "id": "_WZxBCVFYPOj"
      },
      "execution_count": 3,
      "outputs": []
    },
    {
      "cell_type": "code",
      "source": [
        "# Define classifier model\n",
        "class Classifier(nn.Module):\n",
        "    def __init__(self, input_size):\n",
        "        super(Classifier, self).__init__()\n",
        "        self.fc1 = nn.Linear(input_size, 64)\n",
        "        self.fc2 = nn.Linear(64, 1)\n",
        "\n",
        "    def forward(self, x):\n",
        "        x = torch.relu(self.fc1(x))\n",
        "        x = torch.sigmoid(self.fc2(x))\n",
        "        return x\n",
        "\n",
        "# Define adversary to create perturbations\n",
        "class Adversary:\n",
        "    def __init__(self, epsilon=0.1):\n",
        "        self.epsilon = epsilon\n",
        "\n",
        "    def attack(self, x):\n",
        "        # Add small random noise\n",
        "        perturbation = self.epsilon * torch.sign(torch.randn_like(x))\n",
        "        return x + perturbation\n",
        "\n",
        "# Initialize models\n",
        "input_size = X_train.shape[1]\n",
        "model = Classifier(input_size)\n",
        "adversary = Adversary(epsilon=0.2)\n",
        "criterion = nn.BCELoss()\n",
        "optimizer = optim.Adam(model.parameters(), lr=0.001)\n"
      ],
      "metadata": {
        "id": "NeJgMPl8YR3-"
      },
      "execution_count": 4,
      "outputs": []
    },
    {
      "cell_type": "code",
      "source": [
        "# Convert data to PyTorch tensors\n",
        "X_train_tensor = torch.FloatTensor(X_train)\n",
        "y_train_tensor = torch.FloatTensor(y_train).unsqueeze(1)\n",
        "X_test_tensor = torch.FloatTensor(X_test)\n",
        "y_test_tensor = torch.FloatTensor(y_test).unsqueeze(1)\n",
        "\n",
        "# Training loop\n",
        "epochs = 20\n",
        "for epoch in range(epochs):\n",
        "    model.train()\n",
        "\n",
        "    # Adversarial attack\n",
        "    X_adv = adversary.attack(X_train_tensor)\n",
        "\n",
        "    # Forward pass with adversarial samples\n",
        "    optimizer.zero_grad()\n",
        "    outputs = model(X_adv)\n",
        "    loss = criterion(outputs, y_train_tensor)\n",
        "\n",
        "    # Backward pass and optimization\n",
        "    loss.backward()\n",
        "    optimizer.step()\n",
        "\n",
        "    # Evaluate adversarial performance\n",
        "    if (epoch + 1) % 5 == 0:\n",
        "        model.eval()\n",
        "        with torch.no_grad():\n",
        "            y_pred = model(X_test_tensor)\n",
        "            y_pred_labels = (y_pred > 0.5).float()\n",
        "            acc = accuracy_score(y_test, y_pred_labels)\n",
        "            auc = roc_auc_score(y_test, y_pred)\n",
        "        print(f\"Epoch {epoch + 1}, Loss: {loss.item():.4f}, Accuracy: {acc:.4f}, AUC: {auc:.4f}\")\n"
      ],
      "metadata": {
        "colab": {
          "base_uri": "https://localhost:8080/"
        },
        "id": "80QBkizSYbXF",
        "outputId": "bccf5c9a-e93e-4c66-b31f-b01391b6df11"
      },
      "execution_count": 5,
      "outputs": [
        {
          "output_type": "stream",
          "name": "stdout",
          "text": [
            "Epoch 5, Loss: 0.6747, Accuracy: 0.6050, AUC: 0.7121\n",
            "Epoch 10, Loss: 0.6472, Accuracy: 0.6915, AUC: 0.7500\n",
            "Epoch 15, Loss: 0.6245, Accuracy: 0.7060, AUC: 0.7664\n",
            "Epoch 20, Loss: 0.6058, Accuracy: 0.7081, AUC: 0.7745\n"
          ]
        }
      ]
    },
    {
      "cell_type": "code",
      "source": [
        "# Generate adversarial samples for test set\n",
        "X_test_adv = adversary.attack(X_test_tensor)\n",
        "\n",
        "# Evaluate model on adversarial samples\n",
        "model.eval()\n",
        "with torch.no_grad():\n",
        "    y_test_pred = model(X_test_tensor)\n",
        "    y_test_pred_adv = model(X_test_adv)\n",
        "\n",
        "    # Standard test performance\n",
        "    acc_standard = accuracy_score(y_test, (y_test_pred > 0.5).float())\n",
        "    auc_standard = roc_auc_score(y_test, y_test_pred)\n",
        "\n",
        "    # Adversarial test performance\n",
        "    acc_adv = accuracy_score(y_test, (y_test_pred_adv > 0.5).float())\n",
        "    auc_adv = roc_auc_score(y_test, y_test_pred_adv)\n",
        "\n",
        "print(f\"Standard Accuracy: {acc_standard:.4f}, Standard AUC: {auc_standard:.4f}\")\n",
        "print(f\"Adversarial Accuracy: {acc_adv:.4f}, Adversarial AUC: {auc_adv:.4f}\")\n",
        "print(f\"Accuracy Drop Due to Adversarial Attack: {acc_standard - acc_adv:.4f}\")\n"
      ],
      "metadata": {
        "colab": {
          "base_uri": "https://localhost:8080/"
        },
        "id": "oLzoQ_QaYgzK",
        "outputId": "8729801b-f097-4d88-ec95-bdd8a1760356"
      },
      "execution_count": 6,
      "outputs": [
        {
          "output_type": "stream",
          "name": "stdout",
          "text": [
            "Standard Accuracy: 0.7081, Standard AUC: 0.7745\n",
            "Adversarial Accuracy: 0.7050, Adversarial AUC: 0.7681\n",
            "Accuracy Drop Due to Adversarial Attack: 0.0031\n"
          ]
        }
      ]
    }
  ]
}